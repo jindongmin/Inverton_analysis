{
 "cells": [
  {
   "cell_type": "code",
   "execution_count": 2,
   "id": "5d836792",
   "metadata": {},
   "outputs": [],
   "source": [
    "import pandas as pd"
   ]
  },
  {
   "cell_type": "code",
   "execution_count": 3,
   "id": "0e1f6070",
   "metadata": {},
   "outputs": [],
   "source": [
    "#Pp\n",
    "df = pd.read_csv('../Pp_combined_with_SRR_all.csv')"
   ]
  },
  {
   "cell_type": "code",
   "execution_count": 10,
   "id": "419523cf",
   "metadata": {},
   "outputs": [
    {
     "data": {
      "text/plain": [
       "(35, 8)"
      ]
     },
     "execution_count": 10,
     "metadata": {},
     "output_type": "execute_result"
    }
   ],
   "source": [
    "df.shape"
   ]
  },
  {
   "cell_type": "code",
   "execution_count": 9,
   "id": "f0e67df8",
   "metadata": {},
   "outputs": [
    {
     "data": {
      "text/html": [
       "<div>\n",
       "<style scoped>\n",
       "    .dataframe tbody tr th:only-of-type {\n",
       "        vertical-align: middle;\n",
       "    }\n",
       "\n",
       "    .dataframe tbody tr th {\n",
       "        vertical-align: top;\n",
       "    }\n",
       "\n",
       "    .dataframe thead th {\n",
       "        text-align: right;\n",
       "    }\n",
       "</style>\n",
       "<table border=\"1\" class=\"dataframe\">\n",
       "  <thead>\n",
       "    <tr style=\"text-align: right;\">\n",
       "      <th></th>\n",
       "      <th>ID</th>\n",
       "      <th>Pe_F</th>\n",
       "      <th>Pe_R</th>\n",
       "      <th>Pe_ratio</th>\n",
       "      <th>Span_F</th>\n",
       "      <th>Span_R</th>\n",
       "      <th>Span_ratio</th>\n",
       "      <th>SRR_ID</th>\n",
       "    </tr>\n",
       "  </thead>\n",
       "  <tbody>\n",
       "    <tr>\n",
       "      <th>0</th>\n",
       "      <td>k141_1028409:1445-1460-2089-2104</td>\n",
       "      <td>36</td>\n",
       "      <td>8</td>\n",
       "      <td>0.18</td>\n",
       "      <td>25</td>\n",
       "      <td>5</td>\n",
       "      <td>0.17</td>\n",
       "      <td>SRR19415685</td>\n",
       "    </tr>\n",
       "    <tr>\n",
       "      <th>1</th>\n",
       "      <td>k141_1039875:34300-34321-34450-34471</td>\n",
       "      <td>26</td>\n",
       "      <td>34</td>\n",
       "      <td>0.57</td>\n",
       "      <td>16</td>\n",
       "      <td>23</td>\n",
       "      <td>0.59</td>\n",
       "      <td>SRR19415685</td>\n",
       "    </tr>\n",
       "    <tr>\n",
       "      <th>2</th>\n",
       "      <td>k141_1089092:2742-2766-3312-3336</td>\n",
       "      <td>8</td>\n",
       "      <td>12</td>\n",
       "      <td>0.60</td>\n",
       "      <td>6</td>\n",
       "      <td>6</td>\n",
       "      <td>0.50</td>\n",
       "      <td>SRR19415685</td>\n",
       "    </tr>\n",
       "    <tr>\n",
       "      <th>3</th>\n",
       "      <td>k141_1238977:3580-3622-4202-4244</td>\n",
       "      <td>6</td>\n",
       "      <td>14</td>\n",
       "      <td>0.70</td>\n",
       "      <td>1</td>\n",
       "      <td>8</td>\n",
       "      <td>0.89</td>\n",
       "      <td>SRR19415656</td>\n",
       "    </tr>\n",
       "    <tr>\n",
       "      <th>4</th>\n",
       "      <td>k141_132640:119357-119378-119615-119636</td>\n",
       "      <td>180</td>\n",
       "      <td>18</td>\n",
       "      <td>0.09</td>\n",
       "      <td>124</td>\n",
       "      <td>12</td>\n",
       "      <td>0.09</td>\n",
       "      <td>SRR19415685</td>\n",
       "    </tr>\n",
       "  </tbody>\n",
       "</table>\n",
       "</div>"
      ],
      "text/plain": [
       "                                        ID  Pe_F  Pe_R  Pe_ratio  Span_F  \\\n",
       "0         k141_1028409:1445-1460-2089-2104    36     8      0.18      25   \n",
       "1     k141_1039875:34300-34321-34450-34471    26    34      0.57      16   \n",
       "2         k141_1089092:2742-2766-3312-3336     8    12      0.60       6   \n",
       "3         k141_1238977:3580-3622-4202-4244     6    14      0.70       1   \n",
       "4  k141_132640:119357-119378-119615-119636   180    18      0.09     124   \n",
       "\n",
       "   Span_R  Span_ratio       SRR_ID  \n",
       "0       5        0.17  SRR19415685  \n",
       "1      23        0.59  SRR19415685  \n",
       "2       6        0.50  SRR19415685  \n",
       "3       8        0.89  SRR19415656  \n",
       "4      12        0.09  SRR19415685  "
      ]
     },
     "execution_count": 9,
     "metadata": {},
     "output_type": "execute_result"
    }
   ],
   "source": [
    "df.head()"
   ]
  },
  {
   "cell_type": "code",
   "execution_count": 7,
   "id": "8601d9f8",
   "metadata": {},
   "outputs": [
    {
     "data": {
      "text/plain": [
       "32"
      ]
     },
     "execution_count": 7,
     "metadata": {},
     "output_type": "execute_result"
    }
   ],
   "source": [
    "len(df['ID'].unique())"
   ]
  },
  {
   "cell_type": "code",
   "execution_count": 11,
   "id": "9dccdba8",
   "metadata": {},
   "outputs": [
    {
     "data": {
      "text/plain": [
       "6"
      ]
     },
     "execution_count": 11,
     "metadata": {},
     "output_type": "execute_result"
    }
   ],
   "source": [
    "len(df['SRR_ID'].unique())"
   ]
  },
  {
   "cell_type": "code",
   "execution_count": 4,
   "id": "f74296ab",
   "metadata": {},
   "outputs": [],
   "source": [
    "#Pt\n",
    "df = pd.read_csv('../pt_combined_with_SRR_all.csv')"
   ]
  },
  {
   "cell_type": "code",
   "execution_count": 5,
   "id": "7363d9b4",
   "metadata": {},
   "outputs": [
    {
     "data": {
      "text/plain": [
       "(13, 8)"
      ]
     },
     "execution_count": 5,
     "metadata": {},
     "output_type": "execute_result"
    }
   ],
   "source": [
    "df.shape"
   ]
  },
  {
   "cell_type": "code",
   "execution_count": 6,
   "id": "30655504",
   "metadata": {},
   "outputs": [
    {
     "data": {
      "text/html": [
       "<div>\n",
       "<style scoped>\n",
       "    .dataframe tbody tr th:only-of-type {\n",
       "        vertical-align: middle;\n",
       "    }\n",
       "\n",
       "    .dataframe tbody tr th {\n",
       "        vertical-align: top;\n",
       "    }\n",
       "\n",
       "    .dataframe thead th {\n",
       "        text-align: right;\n",
       "    }\n",
       "</style>\n",
       "<table border=\"1\" class=\"dataframe\">\n",
       "  <thead>\n",
       "    <tr style=\"text-align: right;\">\n",
       "      <th></th>\n",
       "      <th>ID</th>\n",
       "      <th>Pe_F</th>\n",
       "      <th>Pe_R</th>\n",
       "      <th>Pe_ratio</th>\n",
       "      <th>Span_F</th>\n",
       "      <th>Span_R</th>\n",
       "      <th>Span_ratio</th>\n",
       "      <th>SRR_ID</th>\n",
       "    </tr>\n",
       "  </thead>\n",
       "  <tbody>\n",
       "    <tr>\n",
       "      <th>0</th>\n",
       "      <td>k141_1266446:6691-6703-6741-6753</td>\n",
       "      <td>52</td>\n",
       "      <td>12</td>\n",
       "      <td>0.19</td>\n",
       "      <td>31</td>\n",
       "      <td>5</td>\n",
       "      <td>0.14</td>\n",
       "      <td>SRR19415655</td>\n",
       "    </tr>\n",
       "    <tr>\n",
       "      <th>1</th>\n",
       "      <td>k141_140520:40487-40502-41165-41180</td>\n",
       "      <td>0</td>\n",
       "      <td>8</td>\n",
       "      <td>1.00</td>\n",
       "      <td>0</td>\n",
       "      <td>4</td>\n",
       "      <td>1.00</td>\n",
       "      <td>SRR19415660</td>\n",
       "    </tr>\n",
       "    <tr>\n",
       "      <th>2</th>\n",
       "      <td>k141_144478:2203-2222-2337-2356</td>\n",
       "      <td>30</td>\n",
       "      <td>6</td>\n",
       "      <td>0.17</td>\n",
       "      <td>24</td>\n",
       "      <td>5</td>\n",
       "      <td>0.17</td>\n",
       "      <td>SRR19415655</td>\n",
       "    </tr>\n",
       "    <tr>\n",
       "      <th>3</th>\n",
       "      <td>k141_154859:4522-4545-4694-4717</td>\n",
       "      <td>16</td>\n",
       "      <td>34</td>\n",
       "      <td>0.68</td>\n",
       "      <td>9</td>\n",
       "      <td>21</td>\n",
       "      <td>0.70</td>\n",
       "      <td>SRR19415655</td>\n",
       "    </tr>\n",
       "    <tr>\n",
       "      <th>4</th>\n",
       "      <td>k141_158980:371-386-486-501</td>\n",
       "      <td>14</td>\n",
       "      <td>16</td>\n",
       "      <td>0.53</td>\n",
       "      <td>13</td>\n",
       "      <td>12</td>\n",
       "      <td>0.48</td>\n",
       "      <td>SRR19415655</td>\n",
       "    </tr>\n",
       "  </tbody>\n",
       "</table>\n",
       "</div>"
      ],
      "text/plain": [
       "                                    ID  Pe_F  Pe_R  Pe_ratio  Span_F  Span_R  \\\n",
       "0     k141_1266446:6691-6703-6741-6753    52    12      0.19      31       5   \n",
       "1  k141_140520:40487-40502-41165-41180     0     8      1.00       0       4   \n",
       "2      k141_144478:2203-2222-2337-2356    30     6      0.17      24       5   \n",
       "3      k141_154859:4522-4545-4694-4717    16    34      0.68       9      21   \n",
       "4          k141_158980:371-386-486-501    14    16      0.53      13      12   \n",
       "\n",
       "   Span_ratio       SRR_ID  \n",
       "0        0.14  SRR19415655  \n",
       "1        1.00  SRR19415660  \n",
       "2        0.17  SRR19415655  \n",
       "3        0.70  SRR19415655  \n",
       "4        0.48  SRR19415655  "
      ]
     },
     "execution_count": 6,
     "metadata": {},
     "output_type": "execute_result"
    }
   ],
   "source": [
    "df.head()"
   ]
  },
  {
   "cell_type": "code",
   "execution_count": 7,
   "id": "1612edde",
   "metadata": {},
   "outputs": [
    {
     "data": {
      "text/plain": [
       "12"
      ]
     },
     "execution_count": 7,
     "metadata": {},
     "output_type": "execute_result"
    }
   ],
   "source": [
    "len(df['ID'].unique())"
   ]
  },
  {
   "cell_type": "code",
   "execution_count": 8,
   "id": "9aacee62",
   "metadata": {},
   "outputs": [
    {
     "data": {
      "text/plain": [
       "3"
      ]
     },
     "execution_count": 8,
     "metadata": {},
     "output_type": "execute_result"
    }
   ],
   "source": [
    "len(df['SRR_ID'].unique())"
   ]
  },
  {
   "cell_type": "code",
   "execution_count": 9,
   "id": "c3b23642",
   "metadata": {},
   "outputs": [],
   "source": [
    "#Pts\n",
    "df = pd.read_csv('../pts_combined_with_SRR_all.csv')"
   ]
  },
  {
   "cell_type": "code",
   "execution_count": 10,
   "id": "2afdb871",
   "metadata": {},
   "outputs": [
    {
     "data": {
      "text/plain": [
       "(178, 8)"
      ]
     },
     "execution_count": 10,
     "metadata": {},
     "output_type": "execute_result"
    }
   ],
   "source": [
    "df.shape"
   ]
  },
  {
   "cell_type": "code",
   "execution_count": 11,
   "id": "f595e51e",
   "metadata": {},
   "outputs": [
    {
     "data": {
      "text/html": [
       "<div>\n",
       "<style scoped>\n",
       "    .dataframe tbody tr th:only-of-type {\n",
       "        vertical-align: middle;\n",
       "    }\n",
       "\n",
       "    .dataframe tbody tr th {\n",
       "        vertical-align: top;\n",
       "    }\n",
       "\n",
       "    .dataframe thead th {\n",
       "        text-align: right;\n",
       "    }\n",
       "</style>\n",
       "<table border=\"1\" class=\"dataframe\">\n",
       "  <thead>\n",
       "    <tr style=\"text-align: right;\">\n",
       "      <th></th>\n",
       "      <th>ID</th>\n",
       "      <th>Pe_F</th>\n",
       "      <th>Pe_R</th>\n",
       "      <th>Pe_ratio</th>\n",
       "      <th>Span_F</th>\n",
       "      <th>Span_R</th>\n",
       "      <th>Span_ratio</th>\n",
       "      <th>SRR_ID</th>\n",
       "    </tr>\n",
       "  </thead>\n",
       "  <tbody>\n",
       "    <tr>\n",
       "      <th>0</th>\n",
       "      <td>c_000000000001:241699-241715-241756-241772</td>\n",
       "      <td>0</td>\n",
       "      <td>150</td>\n",
       "      <td>1.00</td>\n",
       "      <td>0</td>\n",
       "      <td>122</td>\n",
       "      <td>1.00</td>\n",
       "      <td>SRR19415690</td>\n",
       "    </tr>\n",
       "    <tr>\n",
       "      <th>1</th>\n",
       "      <td>c_000000000001:31028-31044-31142-31158</td>\n",
       "      <td>2</td>\n",
       "      <td>6</td>\n",
       "      <td>0.75</td>\n",
       "      <td>2</td>\n",
       "      <td>6</td>\n",
       "      <td>0.75</td>\n",
       "      <td>SRR19415683</td>\n",
       "    </tr>\n",
       "    <tr>\n",
       "      <th>2</th>\n",
       "      <td>c_000000000001:31028-31044-31142-31158</td>\n",
       "      <td>0</td>\n",
       "      <td>8</td>\n",
       "      <td>1.00</td>\n",
       "      <td>0</td>\n",
       "      <td>8</td>\n",
       "      <td>1.00</td>\n",
       "      <td>SRR19415682</td>\n",
       "    </tr>\n",
       "    <tr>\n",
       "      <th>3</th>\n",
       "      <td>c_000000000001:31028-31044-31142-31158</td>\n",
       "      <td>0</td>\n",
       "      <td>8</td>\n",
       "      <td>1.00</td>\n",
       "      <td>0</td>\n",
       "      <td>8</td>\n",
       "      <td>1.00</td>\n",
       "      <td>SRR19415690</td>\n",
       "    </tr>\n",
       "    <tr>\n",
       "      <th>4</th>\n",
       "      <td>c_000000000002:374932-374955-375024-375047</td>\n",
       "      <td>18</td>\n",
       "      <td>16</td>\n",
       "      <td>0.47</td>\n",
       "      <td>8</td>\n",
       "      <td>8</td>\n",
       "      <td>0.50</td>\n",
       "      <td>SRR19415683</td>\n",
       "    </tr>\n",
       "  </tbody>\n",
       "</table>\n",
       "</div>"
      ],
      "text/plain": [
       "                                           ID  Pe_F  Pe_R  Pe_ratio  Span_F  \\\n",
       "0  c_000000000001:241699-241715-241756-241772     0   150      1.00       0   \n",
       "1      c_000000000001:31028-31044-31142-31158     2     6      0.75       2   \n",
       "2      c_000000000001:31028-31044-31142-31158     0     8      1.00       0   \n",
       "3      c_000000000001:31028-31044-31142-31158     0     8      1.00       0   \n",
       "4  c_000000000002:374932-374955-375024-375047    18    16      0.47       8   \n",
       "\n",
       "   Span_R  Span_ratio       SRR_ID  \n",
       "0     122        1.00  SRR19415690  \n",
       "1       6        0.75  SRR19415683  \n",
       "2       8        1.00  SRR19415682  \n",
       "3       8        1.00  SRR19415690  \n",
       "4       8        0.50  SRR19415683  "
      ]
     },
     "execution_count": 11,
     "metadata": {},
     "output_type": "execute_result"
    }
   ],
   "source": [
    "df.head()"
   ]
  },
  {
   "cell_type": "code",
   "execution_count": 12,
   "id": "29410eab",
   "metadata": {},
   "outputs": [
    {
     "data": {
      "text/plain": [
       "127"
      ]
     },
     "execution_count": 12,
     "metadata": {},
     "output_type": "execute_result"
    }
   ],
   "source": [
    "len(df['ID'].unique())"
   ]
  },
  {
   "cell_type": "code",
   "execution_count": 13,
   "id": "c59809a4",
   "metadata": {},
   "outputs": [
    {
     "data": {
      "text/plain": [
       "11"
      ]
     },
     "execution_count": 13,
     "metadata": {},
     "output_type": "execute_result"
    }
   ],
   "source": [
    "len(df['SRR_ID'].unique())"
   ]
  }
 ],
 "metadata": {
  "kernelspec": {
   "display_name": "Python 3 (ipykernel)",
   "language": "python",
   "name": "python3"
  },
  "language_info": {
   "codemirror_mode": {
    "name": "ipython",
    "version": 3
   },
   "file_extension": ".py",
   "mimetype": "text/x-python",
   "name": "python",
   "nbconvert_exporter": "python",
   "pygments_lexer": "ipython3",
   "version": "3.9.10"
  }
 },
 "nbformat": 4,
 "nbformat_minor": 5
}

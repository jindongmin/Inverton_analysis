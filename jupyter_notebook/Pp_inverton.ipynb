{
 "cells": [
  {
   "cell_type": "code",
   "execution_count": 1,
   "id": "5d836792",
   "metadata": {},
   "outputs": [],
   "source": [
    "import pandas as pd"
   ]
  },
  {
   "cell_type": "code",
   "execution_count": 2,
   "id": "0e1f6070",
   "metadata": {},
   "outputs": [],
   "source": [
    "df = pd.read_csv('../Pp_combined_with_SRR_all.csv')"
   ]
  },
  {
   "cell_type": "code",
   "execution_count": 10,
   "id": "419523cf",
   "metadata": {},
   "outputs": [
    {
     "data": {
      "text/plain": [
       "(35, 8)"
      ]
     },
     "execution_count": 10,
     "metadata": {},
     "output_type": "execute_result"
    }
   ],
   "source": [
    "df.shape"
   ]
  },
  {
   "cell_type": "code",
   "execution_count": 9,
   "id": "f0e67df8",
   "metadata": {},
   "outputs": [
    {
     "data": {
      "text/html": [
       "<div>\n",
       "<style scoped>\n",
       "    .dataframe tbody tr th:only-of-type {\n",
       "        vertical-align: middle;\n",
       "    }\n",
       "\n",
       "    .dataframe tbody tr th {\n",
       "        vertical-align: top;\n",
       "    }\n",
       "\n",
       "    .dataframe thead th {\n",
       "        text-align: right;\n",
       "    }\n",
       "</style>\n",
       "<table border=\"1\" class=\"dataframe\">\n",
       "  <thead>\n",
       "    <tr style=\"text-align: right;\">\n",
       "      <th></th>\n",
       "      <th>ID</th>\n",
       "      <th>Pe_F</th>\n",
       "      <th>Pe_R</th>\n",
       "      <th>Pe_ratio</th>\n",
       "      <th>Span_F</th>\n",
       "      <th>Span_R</th>\n",
       "      <th>Span_ratio</th>\n",
       "      <th>SRR_ID</th>\n",
       "    </tr>\n",
       "  </thead>\n",
       "  <tbody>\n",
       "    <tr>\n",
       "      <th>0</th>\n",
       "      <td>k141_1028409:1445-1460-2089-2104</td>\n",
       "      <td>36</td>\n",
       "      <td>8</td>\n",
       "      <td>0.18</td>\n",
       "      <td>25</td>\n",
       "      <td>5</td>\n",
       "      <td>0.17</td>\n",
       "      <td>SRR19415685</td>\n",
       "    </tr>\n",
       "    <tr>\n",
       "      <th>1</th>\n",
       "      <td>k141_1039875:34300-34321-34450-34471</td>\n",
       "      <td>26</td>\n",
       "      <td>34</td>\n",
       "      <td>0.57</td>\n",
       "      <td>16</td>\n",
       "      <td>23</td>\n",
       "      <td>0.59</td>\n",
       "      <td>SRR19415685</td>\n",
       "    </tr>\n",
       "    <tr>\n",
       "      <th>2</th>\n",
       "      <td>k141_1089092:2742-2766-3312-3336</td>\n",
       "      <td>8</td>\n",
       "      <td>12</td>\n",
       "      <td>0.60</td>\n",
       "      <td>6</td>\n",
       "      <td>6</td>\n",
       "      <td>0.50</td>\n",
       "      <td>SRR19415685</td>\n",
       "    </tr>\n",
       "    <tr>\n",
       "      <th>3</th>\n",
       "      <td>k141_1238977:3580-3622-4202-4244</td>\n",
       "      <td>6</td>\n",
       "      <td>14</td>\n",
       "      <td>0.70</td>\n",
       "      <td>1</td>\n",
       "      <td>8</td>\n",
       "      <td>0.89</td>\n",
       "      <td>SRR19415656</td>\n",
       "    </tr>\n",
       "    <tr>\n",
       "      <th>4</th>\n",
       "      <td>k141_132640:119357-119378-119615-119636</td>\n",
       "      <td>180</td>\n",
       "      <td>18</td>\n",
       "      <td>0.09</td>\n",
       "      <td>124</td>\n",
       "      <td>12</td>\n",
       "      <td>0.09</td>\n",
       "      <td>SRR19415685</td>\n",
       "    </tr>\n",
       "  </tbody>\n",
       "</table>\n",
       "</div>"
      ],
      "text/plain": [
       "                                        ID  Pe_F  Pe_R  Pe_ratio  Span_F  \\\n",
       "0         k141_1028409:1445-1460-2089-2104    36     8      0.18      25   \n",
       "1     k141_1039875:34300-34321-34450-34471    26    34      0.57      16   \n",
       "2         k141_1089092:2742-2766-3312-3336     8    12      0.60       6   \n",
       "3         k141_1238977:3580-3622-4202-4244     6    14      0.70       1   \n",
       "4  k141_132640:119357-119378-119615-119636   180    18      0.09     124   \n",
       "\n",
       "   Span_R  Span_ratio       SRR_ID  \n",
       "0       5        0.17  SRR19415685  \n",
       "1      23        0.59  SRR19415685  \n",
       "2       6        0.50  SRR19415685  \n",
       "3       8        0.89  SRR19415656  \n",
       "4      12        0.09  SRR19415685  "
      ]
     },
     "execution_count": 9,
     "metadata": {},
     "output_type": "execute_result"
    }
   ],
   "source": [
    "df.head()"
   ]
  },
  {
   "cell_type": "code",
   "execution_count": 7,
   "id": "8601d9f8",
   "metadata": {},
   "outputs": [
    {
     "data": {
      "text/plain": [
       "32"
      ]
     },
     "execution_count": 7,
     "metadata": {},
     "output_type": "execute_result"
    }
   ],
   "source": [
    "len(df['ID'].unique())"
   ]
  },
  {
   "cell_type": "code",
   "execution_count": 11,
   "id": "9dccdba8",
   "metadata": {},
   "outputs": [
    {
     "data": {
      "text/plain": [
       "6"
      ]
     },
     "execution_count": 11,
     "metadata": {},
     "output_type": "execute_result"
    }
   ],
   "source": [
    "len(df['SRR_ID'].unique())"
   ]
  }
 ],
 "metadata": {
  "kernelspec": {
   "display_name": "Python 3 (ipykernel)",
   "language": "python",
   "name": "python3"
  },
  "language_info": {
   "codemirror_mode": {
    "name": "ipython",
    "version": 3
   },
   "file_extension": ".py",
   "mimetype": "text/x-python",
   "name": "python",
   "nbconvert_exporter": "python",
   "pygments_lexer": "ipython3",
   "version": "3.9.10"
  }
 },
 "nbformat": 4,
 "nbformat_minor": 5
}

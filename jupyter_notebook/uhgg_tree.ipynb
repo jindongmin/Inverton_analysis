{
 "cells": [
  {
   "cell_type": "code",
   "execution_count": 4,
   "id": "a82ec784",
   "metadata": {},
   "outputs": [],
   "source": [
    "import pandas as pd\n",
    "from ete3 import Tree"
   ]
  },
  {
   "cell_type": "code",
   "execution_count": 10,
   "id": "93d83a94",
   "metadata": {},
   "outputs": [],
   "source": [
    "tax_metadata = pd.read_csv('../metadata/filtered_metadata_species_nonempty.tsv', sep = '\\t')"
   ]
  },
  {
   "cell_type": "code",
   "execution_count": 12,
   "id": "0590b0cf",
   "metadata": {},
   "outputs": [
    {
     "name": "stdout",
     "output_type": "stream",
     "text": [
      "PhyloXML tree saved to tree_species_numbers.xml\n"
     ]
    }
   ],
   "source": [
    "# input\n",
    "tree_file = \"../uhgg/bac120_iqtree.nwk\"\n",
    "inverton_file = \"../uhgg/invertible_counts_new.tsv\" # MAG_ID + inverton_number\n",
    "species_file = \"../metadata/filtered_metadata_species_nonempty.tsv\"    # 包含 MAG_ID + Species\n",
    "\n",
    "output_file = \"tree_species_numbers.xml\"\n",
    "\n",
    "# tree\n",
    "t = Tree(tree_file, format=1)\n",
    "\n",
    "# metadata\n",
    "inverton_meta = pd.read_csv(inverton_file, sep=\"\\t\").set_index(\"ID\")[\"inverton_number\"].to_dict()\n",
    "species_meta = pd.read_csv(species_file, sep=\"\\t\").set_index(\"MAG_ID\")[\"Species\"].to_dict()\n",
    "\n",
    "# \n",
    "for leaf in t:\n",
    "    mag_id = leaf.name\n",
    "    species = species_meta.get(mag_id, mag_id)  #\n",
    "    number = inverton_meta.get(mag_id, \"\")\n",
    "    if number != \"\":\n",
    "        leaf.name = f\"{species} ({number})\"\n",
    "    else:\n",
    "        leaf.name = species\n",
    "\n",
    "#PhyloXML\n",
    "t.write(format=1, outfile=output_file)\n",
    "print(f\"PhyloXML tree saved to {output_file}\")"
   ]
  }
 ],
 "metadata": {
  "kernelspec": {
   "display_name": "Python 3 (ipykernel)",
   "language": "python",
   "name": "python3"
  },
  "language_info": {
   "codemirror_mode": {
    "name": "ipython",
    "version": 3
   },
   "file_extension": ".py",
   "mimetype": "text/x-python",
   "name": "python",
   "nbconvert_exporter": "python",
   "pygments_lexer": "ipython3",
   "version": "3.9.10"
  }
 },
 "nbformat": 4,
 "nbformat_minor": 5
}
